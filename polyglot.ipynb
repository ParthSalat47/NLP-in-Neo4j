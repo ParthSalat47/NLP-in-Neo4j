{
  "nbformat": 4,
  "nbformat_minor": 0,
  "metadata": {
    "kernelspec": {
      "display_name": "Python 3",
      "language": "python",
      "name": "python3"
    },
    "language_info": {
      "codemirror_mode": {
        "name": "ipython",
        "version": 3
      },
      "file_extension": ".py",
      "mimetype": "text/x-python",
      "name": "python",
      "nbconvert_exporter": "python",
      "pygments_lexer": "ipython3",
      "version": "3.6.1"
    },
    "colab": {
      "name": "polyglot.ipynb",
      "provenance": [],
      "collapsed_sections": [],
      "include_colab_link": true
    }
  },
  "cells": [
    {
      "cell_type": "markdown",
      "metadata": {
        "id": "view-in-github",
        "colab_type": "text"
      },
      "source": [
        "<a href=\"https://colab.research.google.com/github/ParthSalat47/NLP-in-Neo4j/blob/master/polyglot.ipynb\" target=\"_parent\"><img src=\"https://colab.research.google.com/assets/colab-badge.svg\" alt=\"Open In Colab\"/></a>"
      ]
    },
    {
      "cell_type": "markdown",
      "metadata": {
        "id": "hX6HTOJVxNQ4"
      },
      "source": [
        "### Mounting Google drive"
      ]
    },
    {
      "cell_type": "code",
      "metadata": {
        "colab": {
          "base_uri": "https://localhost:8080/"
        },
        "id": "dzUhzdA7xMjH",
        "outputId": "bfd009dc-525e-4d33-976b-efb84e1bb854"
      },
      "source": [
        "from google.colab import drive\n",
        "drive.mount('/content/drive')"
      ],
      "execution_count": null,
      "outputs": [
        {
          "output_type": "stream",
          "name": "stdout",
          "text": [
            "Mounted at /content/drive\n"
          ]
        }
      ]
    },
    {
      "cell_type": "markdown",
      "metadata": {
        "id": "yHpcvKC9WzF8"
      },
      "source": [
        "# Entity extraction with polyglot\n",
        "\n",
        "Use the Polyglot Python library to enrich the tweet graph with extracted entities"
      ]
    },
    {
      "cell_type": "code",
      "metadata": {
        "collapsed": true,
        "id": "rKNoD_E5WzGA",
        "colab": {
          "base_uri": "https://localhost:8080/"
        },
        "outputId": "369f39d2-7685-4372-9c88-75e8edd8015d"
      },
      "source": [
        "!pip install polyglot"
      ],
      "execution_count": null,
      "outputs": [
        {
          "output_type": "stream",
          "name": "stdout",
          "text": [
            "Collecting polyglot\n",
            "  Downloading polyglot-16.7.4.tar.gz (126 kB)\n",
            "\u001b[K     |████████████████████████████████| 126 kB 2.1 MB/s \n",
            "\u001b[?25hBuilding wheels for collected packages: polyglot\n",
            "  Building wheel for polyglot (setup.py) ... \u001b[?25l\u001b[?25hdone\n",
            "  Created wheel for polyglot: filename=polyglot-16.7.4-py2.py3-none-any.whl size=52578 sha256=40589f259ec32507a9b2f5919d35b66de012717e550842d54149fc036c81fc14\n",
            "  Stored in directory: /root/.cache/pip/wheels/09/bc/67/75c9de8e9726460bc0b101ad225ad025cb8ce9e0759beb9d52\n",
            "Successfully built polyglot\n",
            "Installing collected packages: polyglot\n",
            "Successfully installed polyglot-16.7.4\n"
          ]
        }
      ]
    },
    {
      "cell_type": "code",
      "metadata": {
        "collapsed": true,
        "id": "3I5yd0SAWzGD",
        "colab": {
          "base_uri": "https://localhost:8080/"
        },
        "outputId": "956b079e-68e2-4348-cc94-b8faea39bf29"
      },
      "source": [
        "#!polyglot download embeddings2.en ner2.en"
      ],
      "execution_count": null,
      "outputs": [
        {
          "output_type": "stream",
          "name": "stdout",
          "text": [
            "Traceback (most recent call last):\n",
            "  File \"/usr/local/bin/polyglot\", line 5, in <module>\n",
            "    from polyglot.__main__ import main\n",
            "  File \"/usr/local/lib/python3.7/dist-packages/polyglot/__main__.py\", line 16, in <module>\n",
            "    from icu import Locale\n",
            "ModuleNotFoundError: No module named 'icu'\n"
          ]
        }
      ]
    },
    {
      "cell_type": "code",
      "metadata": {
        "collapsed": true,
        "id": "hwg-OBj0WzGE",
        "colab": {
          "base_uri": "https://localhost:8080/"
        },
        "outputId": "e2c8991f-5812-433c-dc8c-1d3680427275"
      },
      "source": [
        "!pip install neo4j\n",
        "from neo4j import GraphDatabase\n",
        "import json\n",
        "import pprint\n",
        "#from polyglot.text import Text"
      ],
      "execution_count": null,
      "outputs": [
        {
          "output_type": "stream",
          "name": "stdout",
          "text": [
            "Requirement already satisfied: neo4j in /usr/local/lib/python3.7/dist-packages (4.4.0)\n",
            "Requirement already satisfied: pytz in /usr/local/lib/python3.7/dist-packages (from neo4j) (2018.9)\n"
          ]
        }
      ]
    },
    {
      "cell_type": "code",
      "metadata": {
        "collapsed": true,
        "id": "K25XO9tSWzGF"
      },
      "source": [
        "\n",
        "from neo4j import GraphDatabase\n",
        "driver = GraphDatabase.driver(\"neo4j+s://1997272c.databases.neo4j.io:7687\", auth=(\"neo4j\", \"DeTjqssc064er5wkA981vUaTyc09Jhz68m8WZ5WZq_k\"))  \n",
        "#neo4j://127.0.0.1:7687\n",
        "#neo4j://127.0.0.1:7474\n",
        "\n",
        "\n",
        "with driver.session() as session:\n",
        "    results = session.run(\"MATCH (t:Tweet) RETURN t.text AS text, t.tweet_id AS tweet_id\")\n",
        "\n",
        "tweetObjArr = []\n",
        "\n",
        "for r in results:\n",
        "    tweetObj = {}\n",
        "    tweetObj['id'] = r['tweet_id']\n",
        "    tweetObj['text'] = r['text']\n",
        "    tweetObjArr.append(tweetObj)\n",
        "\n",
        "\n",
        "\n",
        "             \n"
      ],
      "execution_count": null,
      "outputs": []
    },
    {
      "cell_type": "code",
      "metadata": {
        "collapsed": true,
        "id": "1kMMu9YoWzGF",
        "colab": {
          "base_uri": "https://localhost:8080/"
        },
        "outputId": "e97e7eb1-c26c-4bb2-a387-e2d7b6e93765"
      },
      "source": [
        "len(tweetObjArr)"
      ],
      "execution_count": null,
      "outputs": [
        {
          "output_type": "execute_result",
          "data": {
            "text/plain": [
              "0"
            ]
          },
          "metadata": {},
          "execution_count": 12
        }
      ]
    },
    {
      "cell_type": "code",
      "metadata": {
        "collapsed": true,
        "id": "_B19qZqeWzGG"
      },
      "source": [
        "entityArr = []\n",
        "\n",
        "\n",
        "for t in tweetObjArr:\n",
        "    try:\n",
        "        parsedTweet = {}\n",
        "        parsedTweet['id'] = t['id']\n",
        "        parsedTweet['text'] = t['text']\n",
        "        blob = Text(t['text'])\n",
        "        entities = blob.entities\n",
        "        parsedTweet['entities'] = []\n",
        "        for e in entities:\n",
        "            eobj = {}\n",
        "            eobj['tag'] = e.tag\n",
        "            eobj['entity'] = e\n",
        "            parsedTweet['entities'].append(eobj)\n",
        "        if len(parsedTweet['entities']) > 0:\n",
        "            entityArr.append(parsedTweet)\n",
        "    except:\n",
        "        pass"
      ],
      "execution_count": null,
      "outputs": []
    },
    {
      "cell_type": "code",
      "metadata": {
        "collapsed": true,
        "id": "yWsB9qZ3WzGG"
      },
      "source": [
        "import json\n",
        "with open('parsed_tweets_scraped.json', 'w') as f:\n",
        "    json.dump(entityArr, f, ensure_ascii=False, sort_keys=True, indent=4)"
      ],
      "execution_count": null,
      "outputs": []
    },
    {
      "cell_type": "code",
      "metadata": {
        "collapsed": true,
        "id": "vuCt45UOWzGH"
      },
      "source": [
        "len(entityArr)"
      ],
      "execution_count": null,
      "outputs": []
    },
    {
      "cell_type": "code",
      "metadata": {
        "collapsed": true,
        "id": "xHeELUtlWzGH"
      },
      "source": [
        "entityArr[5]"
      ],
      "execution_count": null,
      "outputs": []
    },
    {
      "cell_type": "markdown",
      "metadata": {
        "id": "r6FRUaYPWzGI"
      },
      "source": [
        "{'entities': [{'entity': I-PER(['Hillary', 'Clinton']), 'tag': 'I-PER'}],\n",
        " 'id': 773585101489922048,\n",
        " 'text': '@realDonaldTrump \"Hillary Clinton has zero record to run on - unless you call corruption positive..\" - @IngrahamAngle'}"
      ]
    },
    {
      "cell_type": "code",
      "metadata": {
        "collapsed": true,
        "id": "eu-UBOH2WzGI"
      },
      "source": [
        ""
      ],
      "execution_count": null,
      "outputs": []
    },
    {
      "cell_type": "markdown",
      "metadata": {
        "id": "PJG_gNp_WzGI"
      },
      "source": [
        "# Import into Neo4j"
      ]
    },
    {
      "cell_type": "code",
      "metadata": {
        "collapsed": true,
        "id": "uTAbZH5FWzGJ"
      },
      "source": [
        "with open(\"parsed_tweets_scraped.json\") as f:\n",
        "    parsed_tweets = json.load(f)"
      ],
      "execution_count": null,
      "outputs": []
    },
    {
      "cell_type": "code",
      "metadata": {
        "id": "SJYCfXOkWzGJ",
        "outputId": "084ccd4c-a847-4770-84ab-c8c41646cec1"
      },
      "source": [
        "len(parsed_tweets)"
      ],
      "execution_count": null,
      "outputs": [
        {
          "data": {
            "text/plain": [
              "589"
            ]
          },
          "execution_count": 9,
          "metadata": {},
          "output_type": "execute_result"
        }
      ]
    },
    {
      "cell_type": "code",
      "metadata": {
        "id": "QGg9U1gSWzGK",
        "outputId": "b2222f79-3403-44a0-ba8c-f71efd421a38"
      },
      "source": [
        "pprint.pprint(parsed_tweets[4])"
      ],
      "execution_count": null,
      "outputs": [
        {
          "name": "stdout",
          "output_type": "stream",
          "text": [
            "{'entities': [{'entity': ['Hillary'], 'tag': 'I-PER'}],\n",
            " 'id': '588771323289030657',\n",
            " 'text': 'Emails investigation made Hillary a dubious candidate #DemsWontPass'}\n"
          ]
        }
      ]
    },
    {
      "cell_type": "code",
      "metadata": {
        "id": "VuQ8CAOhWzGL"
      },
      "source": [
        ""
      ],
      "execution_count": null,
      "outputs": []
    },
    {
      "cell_type": "code",
      "metadata": {
        "collapsed": true,
        "id": "LzWU4_CIWzGL"
      },
      "source": [
        "driver = GraphDatabase.driver(\"bolt://localhost:7687\")\n",
        "\n",
        "with driver.session() as session:\n",
        "    session.run('CREATE CONSTRAINT ON (p:Person) ASSERT p.name IS UNIQUE;')\n",
        "    session.run('CREATE CONSTRAINT ON (l:Location) ASSERT l.name IS UNIQUE;')\n",
        "    session.run('CREATE CONSTRAINT ON (o:Organization) ASSERT o.name IS UNIQUE;')"
      ],
      "execution_count": null,
      "outputs": []
    },
    {
      "cell_type": "code",
      "metadata": {
        "collapsed": true,
        "id": "U-V8QICyWzGM"
      },
      "source": [
        "entity_import_query = '''\n",
        "WITH $parsedTweets AS parsedTweets\n",
        "UNWIND parsedTweets AS parsedTweet\n",
        "MATCH (t:Tweet) WHERE t.tweet_id = parsedTweet.id\n",
        "\n",
        "\n",
        "FOREACH(entity IN parsedTweet.entities |\n",
        "    // Person\n",
        "    FOREACH(_ IN CASE WHEN entity.tag = 'I-PER' THEN [1] ELSE [] END | \n",
        "        MERGE (p:Person {name: reduce(s = \"\", x IN entity.entity | s + x + \" \")}) //FIXME: trailing space\n",
        "        MERGE (p)<-[:CONTAINS_ENTITY]-(t)\n",
        "    )\n",
        "    \n",
        "    // Organization\n",
        "    FOREACH(_ IN CASE WHEN entity.tag = 'I-ORG' THEN [1] ELSE [] END | \n",
        "        MERGE (o:Organization {name: reduce(s = \"\", x IN entity.entity | s + x + \" \")}) //FIXME: trailing space\n",
        "        MERGE (o)<-[:CONTAINS_ENTITY]-(t)\n",
        "    )\n",
        "    \n",
        "    // Location\n",
        "    FOREACH(_ IN CASE WHEN entity.tag = 'I-LOC' THEN [1] ELSE [] END | \n",
        "        MERGE (l:Location {name: reduce(s = \"\", x IN entity.entity | s + x + \" \")}) // FIXME: trailing space\n",
        "        MERGE (l)<-[:CONTAINS_ENTITY]-(t)\n",
        "    )\n",
        ")\n",
        "\n",
        "'''"
      ],
      "execution_count": null,
      "outputs": []
    },
    {
      "cell_type": "code",
      "metadata": {
        "collapsed": true,
        "id": "Btk0xjR0WzGN"
      },
      "source": [
        "with driver.session() as session:\n",
        "    session.run(entity_import_query, parsedTweets=parsed_tweets)"
      ],
      "execution_count": null,
      "outputs": []
    },
    {
      "cell_type": "code",
      "metadata": {
        "collapsed": true,
        "id": "zqHG1YBTWzGN"
      },
      "source": [
        ""
      ],
      "execution_count": null,
      "outputs": []
    }
  ]
}